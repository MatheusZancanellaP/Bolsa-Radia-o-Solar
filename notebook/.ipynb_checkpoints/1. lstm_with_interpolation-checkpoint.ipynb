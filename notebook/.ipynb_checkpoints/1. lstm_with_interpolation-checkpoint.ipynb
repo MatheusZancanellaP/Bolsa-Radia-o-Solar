{
 "cells": [
  {
   "cell_type": "code",
   "execution_count": 89,
   "metadata": {
    "ExecuteTime": {
     "end_time": "2023-09-23T15:01:50.017220600Z",
     "start_time": "2023-09-23T15:01:41.160627600Z"
    }
   },
   "outputs": [],
   "source": [
    "from math import sqrt\n",
    "\n",
    "import keras\n",
    "import numpy as np\n",
    "import pandas as pd\n",
    "from keras import layers\n",
    "from keras.callbacks import EarlyStopping\n",
    "from keras_tuner.tuners import RandomSearch\n",
    "from matplotlib import pyplot\n",
    "from sklearn.metrics import mean_absolute_error\n",
    "from sklearn.metrics import mean_absolute_percentage_error\n",
    "from sklearn.metrics import mean_squared_error\n",
    "from sklearn.metrics import r2_score\n",
    "from sklearn.preprocessing import MinMaxScaler\n",
    "from scipy.stats import zscore\n",
    "import matplotlib.pyplot as plt"
   ]
  },
  {
   "cell_type": "code",
   "execution_count": 90,
   "metadata": {
    "ExecuteTime": {
     "end_time": "2023-09-19T00:13:25.564956800Z",
     "start_time": "2023-09-19T00:13:25.526137600Z"
    },
    "collapsed": false,
    "jupyter": {
     "outputs_hidden": false
    }
   },
   "outputs": [],
   "source": [
    "def read_data(filename = '../data/global_irradiance_daily_aurora.csv'):\n",
    "    df_temp = pd.read_csv(\n",
    "        filename,\n",
    "        sep=';',  # Usando ponto e vírgula como separador\n",
    "        parse_dates=['Data'],  # Indicando que 'Data' deve ser interpretado como data\n",
    "        index_col=['Data']  # Usando 'Data' como índice\n",
    "    )\n",
    "\n",
    "    # Renomeando a coluna 'Medicao' para 'RADIATION' para manter a consistência\n",
    "    df_temp.rename(columns={'Medicao': 'RADIATION'}, inplace=True)\n",
    "\n",
    "    init_index = lambda _df_temp: _df_temp[_df_temp.RADIATION != 0].index[0]\n",
    "\n",
    "    return df_temp.loc[df_temp.index >= init_index(df_temp)]\n",
    "\n",
    "\n",
    "\n",
    "def replace_outliers_with_nan(df, column_name='RADIATION', threshold=3):\n",
    "    \n",
    "    # Substitui outliers em um DataFrame com NaN com base no z-score.\n",
    "    \n",
    "    # Parâmetros:\n",
    "    #    df (pd.DataFrame): O DataFrame para o qual os outliers devem ser substituídos.\n",
    "    #    threshold (float): O valor limite do z-score para considerar um ponto como outlier.\n",
    "        \n",
    "    # Retorna:\n",
    "    #    pd.DataFrame: DataFrame com outliers substituídos por NaN.\n",
    "    \n",
    "    # Verifica se os dados na coluna especificada são numéricos\n",
    "    if df[column_name].dtype == object:\n",
    "        # Tenta converter os dados para numéricos\n",
    "        try:\n",
    "            df[column_name] = pd.to_numeric(df[column_name], errors='coerce')\n",
    "        except ValueError:\n",
    "            print(f\"Erro: Não foi possível converter os dados na coluna {column_name} para numérico.\")\n",
    "            return df\n",
    "    \n",
    "    # Verifica se há NaN após a conversão e trata conforme necessário\n",
    "    if df[column_name].isna().any():\n",
    "        print(f\"Aviso: NaN encontrado na coluna {column_name}.\")\n",
    "        # Aqui você pode adicionar código para tratar os NaN conforme necessário\n",
    "    \n",
    "    # Calcula z-scores\n",
    "    z_scores = np.abs(zscore(df[column_name], nan_policy='omit'))  # 'omit' para ignorar NaN nos cálculos\n",
    "    \n",
    "    # Imprime o maior z-score encontrado\n",
    "    print(\"Maior z-score encontrado:\", np.nanmax(z_scores))  # np.nanmax para ignorar NaN\n",
    "    \n",
    "    # Obtém boolean array onde True indica a presença de um outlier\n",
    "    outliers = (z_scores > threshold)\n",
    "    \n",
    "    # Substitui outliers por NaN apenas na coluna especificada\n",
    "    df_out = df.copy()\n",
    "    df_out.loc[outliers, column_name] = np.nan\n",
    "    \n",
    "    return df_out\n",
    "\n",
    "\n",
    "\n",
    "\n",
    "\n",
    "\n",
    "def interpolate_filler(data):\n",
    "    return data.interpolate(method ='linear', limit_direction ='backward')\n",
    "\n",
    "def fill_df(dataframe, filler):\n",
    "    data = {}\n",
    "    for column in dataframe.columns:\n",
    "        data[column] = filler(dataframe[column])\n",
    "    return pd.DataFrame(data=data, index=dataframe.index.values)\n",
    "\n",
    "def windowing(dataframe, step_back, step_front) -> (np.array, np.array):\n",
    "    dataset = dataframe.values\n",
    "    x, y = [], []\n",
    "    for i in range(len(dataset) - step_back - step_front):\n",
    "        j = (i + step_back)\n",
    "        x.append(dataset[i:j])\n",
    "        y.append(dataset[j:(j+step_front), 0])\n",
    "\n",
    "    return np.array(x), np.array(y)\n",
    "\n",
    "def split_data(x, y, length, ratio=0.8):\n",
    "    train_size = int(length * 0.9)\n",
    "    _train_x, _train_y = x[0:train_size], y[0:train_size].reshape(y[0:train_size].shape[0],)\n",
    "    _test_x, _test_y = x[train_size:], y[train_size:].reshape(y[train_size:].shape[0],)\n",
    "    return _train_x, _train_y, _test_x, _test_y\n",
    "\n",
    "def show_error_metrics(real, pred):\n",
    "    r2 = r2_score(real, pred)\n",
    "    mse = mean_squared_error(real, pred)\n",
    "    rmse = sqrt(mean_squared_error(real, pred))\n",
    "    mae = mean_absolute_error(real, pred)\n",
    "    mape = mean_absolute_percentage_error(real, pred)\n",
    "\n",
    "    print('Test R2: %.3f' % r2)\n",
    "    print('Test MSE: %.3f' % mse)\n",
    "    print('Test RMSE: %.3f' % rmse)\n",
    "    print('Test MAE: %.3f' % mae)\n",
    "    print('Test MAPE: %.3f' % mape)"
   ]
  },
  {
   "cell_type": "code",
   "execution_count": 91,
   "metadata": {
    "ExecuteTime": {
     "end_time": "2023-09-19T00:13:25.576242800Z",
     "start_time": "2023-09-19T00:13:25.570726100Z"
    },
    "collapsed": false,
    "jupyter": {
     "outputs_hidden": false
    }
   },
   "outputs": [],
   "source": [
    "def build_model(hp):\n",
    "    model = keras.Sequential()\n",
    "    model.add(layers.LSTM(units=hp.Int('units',\n",
    "                                       min_value=32,\n",
    "                                       max_value=512,\n",
    "                                       step=32),\n",
    "                          return_sequences=True,\n",
    "                          input_shape=(3, 1)))  # Ajustado para a nova forma dos dados\n",
    "    model.add(layers.Dropout(rate=hp.Float(\n",
    "        'dropout',\n",
    "        min_value=0.0,\n",
    "        max_value=0.5,\n",
    "        default=0.25,\n",
    "        step=0.05,\n",
    "    )))\n",
    "    model.add(layers.LSTM(units=hp.Int('units_2',\n",
    "                                       min_value=32,\n",
    "                                       max_value=512,\n",
    "                                       step=32)))\n",
    "    model.add(layers.Dense(1, activation=hp.Choice('activation', ['relu', 'sigmoid'])))\n",
    "    model.compile(loss='mean_squared_error', optimizer=keras.optimizers.Adam(\n",
    "        hp.Choice('learning_rate', [1e-2, 1e-3, 1e-4])))\n",
    "    return model\n",
    "\n",
    "def model_search(\n",
    "        name,\n",
    "        train_x,\n",
    "        train_y,\n",
    "        max_trials=10,\n",
    "        executions_per_trial=1,\n",
    "        epochs=10,\n",
    "        validation_split=0.3\n",
    "):\n",
    "    tuner = RandomSearch(\n",
    "        build_model,\n",
    "        seed=13418236482,\n",
    "        objective='val_loss',\n",
    "        max_trials=max_trials,\n",
    "        executions_per_trial=executions_per_trial,\n",
    "        directory='models',\n",
    "        project_name=name)\n",
    "\n",
    "    tuner.search_space_summary()\n",
    "\n",
    "    tuner.search(train_x, train_y,\n",
    "                 epochs=epochs,\n",
    "                 validation_split=validation_split)\n",
    "\n",
    "    return tuner.get_best_hyperparameters()[0]"
   ]
  },
  {
   "cell_type": "code",
   "execution_count": 92,
   "metadata": {
    "ExecuteTime": {
     "end_time": "2023-09-23T15:08:34.599936100Z",
     "start_time": "2023-09-23T15:08:34.547608200Z"
    },
    "collapsed": false,
    "jupyter": {
     "outputs_hidden": false
    }
   },
   "outputs": [],
   "source": [
    "class Scaler:\n",
    "    scales: {}\n",
    "    df: pd.DataFrame\n",
    "    df_scaled: pd.DataFrame\n",
    "    scaled: bool\n",
    "\n",
    "    def __init__(self, df: pd.DataFrame):\n",
    "        self.df = df.copy()\n",
    "        self.scales = {}\n",
    "        for c in df.columns:\n",
    "            self.scales[c] = MinMaxScaler(feature_range=(0, 1))\n",
    "        self.scaled = False\n",
    "\n",
    "    def get_dataframe_scaled(self):\n",
    "        if self.scaled:\n",
    "            return self.df_scaled\n",
    "        self.scaled = True\n",
    "        self.df_scaled = self.df.copy()\n",
    "        for c in df.columns:\n",
    "            self.df_scaled[c] = self.scales[c]\\\n",
    "                .fit_transform(self.df_scaled[c].values.reshape(-1, 1))\n",
    "        return self.df_scaled"
   ]
  },
  {
   "cell_type": "code",
   "execution_count": 93,
   "metadata": {
    "ExecuteTime": {
     "end_time": "2023-09-19T00:13:27.082244600Z",
     "start_time": "2023-09-19T00:13:27.064561600Z"
    },
    "collapsed": false,
    "jupyter": {
     "outputs_hidden": false
    }
   },
   "outputs": [
    {
     "name": "stdout",
     "output_type": "stream",
     "text": [
      "520\n",
      "Aviso: NaN encontrado na coluna RADIATION.\n",
      "Maior z-score encontrado: 7.958223595875242\n",
      "520\n"
     ]
    },
    {
     "data": {
      "image/png": "[encoded data removed]",
      "text/plain": [
       "<Figure size 640x480 with 2 Axes>"
      ]
     },
     "metadata": {},
     "output_type": "display_data"
    }
   ],
   "source": [
    "\n",
    "df_init = read_data()\n",
    "\n",
    "print(df_init.size)\n",
    "df_no_out = replace_outliers_with_nan(df_init, 'RADIATION')\n",
    "print(df_no_out.size)\n",
    "\n",
    "plt.subplot(1, 2, 1)  # 1 linha, 2 colunas, gráfico 1\n",
    "plt.plot(df_init, marker='o', linestyle='-')\n",
    "plt.title('Dados Originais (com outliers)')\n",
    "plt.xlabel('Índice')\n",
    "plt.ylabel('Valor')\n",
    "plt.grid(True)\n",
    "\n",
    "# Plotando df_no_out\n",
    "plt.subplot(1, 2, 2)  # 1 linha, 2 colunas, gráfico 2\n",
    "plt.plot(df_no_out, marker='o', linestyle='-')\n",
    "plt.title('Dados Após Remoção de Outliers')\n",
    "plt.xlabel('Índice')\n",
    "plt.ylabel('Valor')\n",
    "plt.grid(True)\n",
    "\n",
    "# Ajustando o layout para evitar sobreposição\n",
    "plt.tight_layout()\n",
    "plt.show()\n",
    "\n",
    "df = fill_df(df_no_out, interpolate_filler)\n",
    "\n",
    "\n"
   ]
  },
  {
   "cell_type": "code",
   "execution_count": 94,
   "metadata": {
    "ExecuteTime": {
     "end_time": "2023-09-19T00:13:27.145065Z",
     "start_time": "2023-09-19T00:13:27.076104600Z"
    },
    "collapsed": false,
    "jupyter": {
     "outputs_hidden": false
    }
   },
   "outputs": [
    {
     "name": "stdout",
     "output_type": "stream",
     "text": [
      "                RADIATION\n",
      "2021-04-29   63016.275273\n",
      "2021-04-30  322514.915680\n",
      "2021-05-01  240170.574569\n",
      "2021-05-02  266349.735046\n",
      "2021-05-03  318577.535594\n",
      "...                   ...\n",
      "2022-09-26  117538.885685\n",
      "2022-09-27   25423.149783\n",
      "2022-09-28   69594.622168\n",
      "2022-09-29   22021.663290\n",
      "2022-09-30   70677.632210\n",
      "\n",
      "[520 rows x 1 columns]             RADIATION\n",
      "2021-04-29   0.106308\n",
      "2021-04-30   0.650963\n",
      "2021-05-01   0.478133\n",
      "2021-05-02   0.533080\n",
      "2021-05-03   0.642699\n",
      "...               ...\n",
      "2022-09-26   0.220744\n",
      "2022-09-27   0.027404\n",
      "2022-09-28   0.120115\n",
      "2022-09-29   0.020265\n",
      "2022-09-30   0.122388\n",
      "\n",
      "[520 rows x 1 columns]\n"
     ]
    }
   ],
   "source": [
    "scaler = Scaler(df)\n",
    "df_scaled = scaler.get_dataframe_scaled()\n",
    "print(df, df_scaled)"
   ]
  },
  {
   "cell_type": "code",
   "execution_count": 95,
   "metadata": {
    "ExecuteTime": {
     "end_time": "2023-09-19T00:13:27.145065Z",
     "start_time": "2023-09-19T00:13:27.100822300Z"
    },
    "collapsed": false,
    "jupyter": {
     "outputs_hidden": false
    }
   },
   "outputs": [],
   "source": [
    "X, Y = windowing(df_scaled, 3, 1)\n",
    "train_x, train_y, test_x, test_y = split_data(X, Y, length=len(df_scaled), ratio=0.9)"
   ]
  },
  {
   "cell_type": "markdown",
   "metadata": {
    "collapsed": false,
    "jupyter": {
     "outputs_hidden": false
    }
   },
   "source": [
    "## LSTM"
   ]
  },
  {
   "cell_type": "code",
   "execution_count": null,
   "metadata": {
    "ExecuteTime": {
     "end_time": "2023-09-19T00:13:27.161128900Z",
     "start_time": "2023-09-19T00:13:27.115349900Z"
    },
    "collapsed": false,
    "jupyter": {
     "outputs_hidden": false
    }
   },
   "outputs": [
    {
     "name": "stdout",
     "output_type": "stream",
     "text": [
      "Trial 2 Complete [00h 00m 25s]\n",
      "val_loss: 0.024132104963064192\n",
      "\n",
      "Best val_loss So Far: 0.024132104963064192\n",
      "Total elapsed time: 00h 00m 44s\n",
      "\n",
      "Search: Running Trial #3\n",
      "\n",
      "Value             |Best Value So Far |Hyperparameter\n",
      "192               |256               |units\n",
      "0.4               |0.1               |dropout\n",
      "96                |288               |units_2\n",
      "sigmoid           |sigmoid           |activation\n",
      "0.0001            |0.001             |learning_rate\n",
      "\n",
      "Epoch 1/10\n"
     ]
    }
   ],
   "source": [
    "hp = model_search('interpolate_lstm_3_1_aurora', train_x, train_y, 20, 5, 10, 0.3)\n",
    "hp.values"
   ]
  },
  {
   "cell_type": "code",
   "execution_count": null,
   "metadata": {
    "ExecuteTime": {
     "end_time": "2023-09-19T00:14:43.320119Z",
     "start_time": "2023-09-19T00:13:27.166120300Z"
    },
    "collapsed": false,
    "jupyter": {
     "outputs_hidden": false
    }
   },
   "outputs": [],
   "source": [
    "model = build_model(hp)\n",
    "\n",
    "# fit network\n",
    "es = EarlyStopping(monitor='val_loss', mode='min', verbose=1, patience=15)\n",
    "history = model.fit(train_x,\n",
    "                    train_y,\n",
    "                    epochs=200,\n",
    "                    batch_size=72,\n",
    "                    validation_data=(test_x, test_y),\n",
    "                    validation_split=0.3,\n",
    "                    verbose=2,\n",
    "                    callbacks=[es],\n",
    "                    workers=4,\n",
    "                    use_multiprocessing=True)\n",
    "# plot history\n",
    "pyplot.plot(history.history['loss'], label='train')\n",
    "pyplot.plot(history.history['val_loss'], label='validation')\n",
    "pyplot.legend()\n",
    "pyplot.show()"
   ]
  },
  {
   "cell_type": "code",
   "execution_count": null,
   "metadata": {
    "ExecuteTime": {
     "end_time": "2023-09-19T00:14:44.085937600Z",
     "start_time": "2023-09-19T00:14:43.326166400Z"
    },
    "collapsed": false,
    "jupyter": {
     "outputs_hidden": false
    }
   },
   "outputs": [],
   "source": [
    "predict = model.predict(test_x)\n",
    "\n",
    "real = scaler.scales['RADIATION'].inverse_transform(test_y.reshape(-1,1))\n",
    "predict = scaler.scales['RADIATION'].inverse_transform(predict)"
   ]
  },
  {
   "cell_type": "code",
   "execution_count": null,
   "metadata": {
    "ExecuteTime": {
     "end_time": "2023-09-19T00:14:44.239464600Z",
     "start_time": "2023-09-19T00:14:44.090452Z"
    },
    "collapsed": false,
    "jupyter": {
     "outputs_hidden": false
    }
   },
   "outputs": [],
   "source": [
    "range_plot = 100\n",
    "\n",
    "pyplot.plot(real[0:range_plot], color='blue', label='real')\n",
    "pyplot.plot(predict[0:range_plot], color='red', label='incompleto')\n",
    "\n",
    "show_error_metrics(real, predict)\n",
    "\n",
    "pyplot.show()"
   ]
  },
  {
   "cell_type": "markdown",
   "metadata": {
    "collapsed": false,
    "jupyter": {
     "outputs_hidden": false
    }
   },
   "source": [
    "## Manual Model"
   ]
  },
  {
   "cell_type": "code",
   "execution_count": null,
   "metadata": {
    "ExecuteTime": {
     "end_time": "2023-09-19T00:14:44.239464600Z",
     "start_time": "2023-09-19T00:14:44.230886Z"
    },
    "collapsed": false,
    "jupyter": {
     "outputs_hidden": false
    }
   },
   "outputs": [],
   "source": [
    "print(test_x.shape, test_y.shape)"
   ]
  },
  {
   "cell_type": "code",
   "execution_count": null,
   "metadata": {
    "ExecuteTime": {
     "end_time": "2023-09-19T00:19:03.929342600Z",
     "start_time": "2023-09-19T00:18:29.644167200Z"
    },
    "collapsed": false,
    "jupyter": {
     "outputs_hidden": false
    }
   },
   "outputs": [],
   "source": [
    "from keras.models import Sequential\n",
    "from keras.layers import LSTM\n",
    "from keras.layers import Bidirectional, Dropout, Activation, Dense, LSTM, InputLayer\n",
    "from keras.callbacks import EarlyStopping\n",
    "\n",
    "\n",
    "model2 = Sequential([\n",
    "    Dense(1, input_shape=(3, 1)),\n",
    "    Dense(units=352),\n",
    "    Dropout(rate=0.35),\n",
    "    LSTM(units=320),\n",
    "    Dense(1, activation='sigmoid')\n",
    "])\n",
    "\n",
    "\n",
    "model2.compile(loss='mean_squared_error', optimizer=keras.optimizers.legacy.Adam(0.01))\n",
    "\n",
    "\n",
    "es = EarlyStopping(monitor='val_loss', mode='min', verbose=1, patience=15)\n",
    "history = model2.fit(train_x,\n",
    "                     train_y,\n",
    "                     epochs=200,\n",
    "                     batch_size=72,\n",
    "                     #validation_data=(test_x, test_y),\n",
    "                     validation_split=0.3,\n",
    "                     verbose=2,\n",
    "                     callbacks=[es],\n",
    "                     workers=4,\n",
    "                     use_multiprocessing=True)\n",
    "# plot history\n",
    "pyplot.plot(history.history['loss'], label='train')\n",
    "pyplot.plot(history.history['val_loss'], label='test')\n",
    "pyplot.legend()\n",
    "pyplot.show()"
   ]
  },
  {
   "cell_type": "code",
   "execution_count": null,
   "metadata": {},
   "outputs": [],
   "source": [
    "model2.evaluate(test_x, test_y, verbose=1)"
   ]
  },
  {
   "cell_type": "code",
   "execution_count": null,
   "metadata": {
    "ExecuteTime": {
     "end_time": "2023-09-23T16:41:40.282847Z",
     "start_time": "2023-09-23T16:41:40.091216700Z"
    },
    "collapsed": false,
    "jupyter": {
     "outputs_hidden": false
    }
   },
   "outputs": [],
   "source": [
    "predict = model2.predict(test_x)\n",
    "\n",
    "\n",
    "real = scaler.scales['RADIATION'].inverse_transform(test_y.reshape(-1,1))\n",
    "predict = scaler.scales['RADIATION'].inverse_transform(predict)"
   ]
  },
  {
   "cell_type": "code",
   "execution_count": null,
   "metadata": {
    "ExecuteTime": {
     "end_time": "2023-09-19T00:19:04.696134600Z",
     "start_time": "2023-09-19T00:19:04.566993100Z"
    },
    "collapsed": false,
    "jupyter": {
     "outputs_hidden": false
    }
   },
   "outputs": [],
   "source": [
    "range_plot = 100\n",
    "\n",
    "pyplot.plot(real[0:range_plot], color='blue', label='real')\n",
    "pyplot.plot(predict[0:range_plot], color='red', label='incompleto')\n",
    "\n",
    "show_error_metrics(real, predict)\n",
    "\n",
    "pyplot.show()"
   ]
  },
  {
   "cell_type": "code",
   "execution_count": null,
   "metadata": {
    "ExecuteTime": {
     "end_time": "2023-09-19T00:15:32.548452600Z",
     "start_time": "2023-09-19T00:15:32.540411500Z"
    },
    "collapsed": false,
    "jupyter": {
     "outputs_hidden": false
    }
   },
   "outputs": [],
   "source": []
  },
  {
   "cell_type": "code",
   "execution_count": null,
   "metadata": {},
   "outputs": [],
   "source": []
  }
 ],
 "metadata": {
  "kernelspec": {
   "display_name": "Python 3 (ipykernel)",
   "language": "python",
   "name": "python3"
  },
  "language_info": {
   "codemirror_mode": {
    "name": "ipython",
    "version": 3
   },
   "file_extension": ".py",
   "mimetype": "text/x-python",
   "name": "python",
   "nbconvert_exporter": "python",
   "pygments_lexer": "ipython3",
   "version": "3.11.4"
  }
 },
 "nbformat": 4,
 "nbformat_minor": 4
}
