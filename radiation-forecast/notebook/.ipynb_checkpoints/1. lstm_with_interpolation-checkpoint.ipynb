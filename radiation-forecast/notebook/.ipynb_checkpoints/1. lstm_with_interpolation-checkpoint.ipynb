{
 "cells": [
  {
   "cell_type": "code",
   "execution_count": 124,
   "metadata": {
    "ExecuteTime": {
     "end_time": "2023-09-23T15:01:50.017220600Z",
     "start_time": "2023-09-23T15:01:41.160627600Z"
    }
   },
   "outputs": [],
   "source": [
    "from math import sqrt\n",
    "\n",
    "import keras\n",
    "import numpy as np\n",
    "import pandas as pd\n",
    "from keras import layers\n",
    "from keras.callbacks import EarlyStopping\n",
    "from keras_tuner.tuners import RandomSearch\n",
    "from matplotlib import pyplot\n",
    "from sklearn.metrics import mean_absolute_error\n",
    "from sklearn.metrics import mean_absolute_percentage_error\n",
    "from sklearn.metrics import mean_squared_error\n",
    "from sklearn.metrics import r2_score\n",
    "from sklearn.preprocessing import MinMaxScaler"
   ]
  },
  {
   "cell_type": "code",
   "execution_count": null,
   "metadata": {
    "ExecuteTime": {
     "end_time": "2023-09-19T00:13:25.564956800Z",
     "start_time": "2023-09-19T00:13:25.526137600Z"
    },
    "collapsed": false,
    "jupyter": {
     "outputs_hidden": false
    }
   },
   "outputs": [],
   "source": [
    "def read_data(filename = '../data/global_irradiance_daily_aurora.csv'):\n",
    "    df_temp = pd.read_csv(\n",
    "        filename,\n",
    "        sep=';',  # Usando ponto e vírgula como separador\n",
    "        parse_dates=['Data'],  # Indicando que 'Data' deve ser interpretado como data\n",
    "        index_col=['Data']  # Usando 'Data' como índice\n",
    "    )\n",
    "\n",
    "    # Renomeando a coluna 'Medicao' para 'RADIATION' para manter a consistência\n",
    "    df_temp.rename(columns={'Medicao': 'RADIATION'}, inplace=True)\n",
    "\n",
    "    init_index = lambda _df: _df[_df.RADIATION != 0].index[0]\n",
    "\n",
    "    return df.loc[df.index >= init_index(df)]\n",
    "\n",
    "def interpolate_filler(data):\n",
    "    return data.interpolate(method ='linear', limit_direction ='backward')\n",
    "\n",
    "def fill_df(dataframe, filler):\n",
    "    data = {}\n",
    "    for column in dataframe.columns:\n",
    "        data[column] = filler(dataframe[column])\n",
    "    return pd.DataFrame(data=data, index=dataframe.index.values)\n",
    "\n",
    "def windowing(dataframe, step_back, step_front) -> (np.array, np.array):\n",
    "    dataset = dataframe.values\n",
    "    x, y = [], []\n",
    "    for i in range(len(dataset) - step_back - step_front):\n",
    "        j = (i + step_back)\n",
    "        x.append(dataset[i:j])\n",
    "        y.append(dataset[j:(j+step_front), 0])\n",
    "\n",
    "    return np.array(x), np.array(y)\n",
    "\n",
    "def split_data(x, y, length, ratio=0.8):\n",
    "    train_size = int(length * 0.9)\n",
    "    _train_x, _train_y = x[0:train_size], y[0:train_size].reshape(y[0:train_size].shape[0],)\n",
    "    _test_x, _test_y = x[train_size:], y[train_size:].reshape(y[train_size:].shape[0],)\n",
    "    return _train_x, _train_y, _test_x, _test_y\n",
    "\n",
    "def show_error_metrics(real, pred):\n",
    "    r2 = r2_score(real, pred)\n",
    "    mse = mean_squared_error(real, pred)\n",
    "    rmse = sqrt(mean_squared_error(real, pred))\n",
    "    mae = mean_absolute_error(real, pred)\n",
    "    mape = mean_absolute_percentage_error(real, pred)\n",
    "\n",
    "    print('Test R2: %.3f' % r2)\n",
    "    print('Test MSE: %.3f' % mse)\n",
    "    print('Test RMSE: %.3f' % rmse)\n",
    "    print('Test MAE: %.3f' % mae)\n",
    "    print('Test MAPE: %.3f' % mape)"
   ]
  },
  {
   "cell_type": "code",
   "execution_count": 126,
   "metadata": {
    "ExecuteTime": {
     "end_time": "2023-09-19T00:13:25.576242800Z",
     "start_time": "2023-09-19T00:13:25.570726100Z"
    },
    "collapsed": false,
    "jupyter": {
     "outputs_hidden": false
    }
   },
   "outputs": [],
   "source": [
    "def build_model(hp):\n",
    "    model = keras.Sequential()\n",
    "    model.add(layers.LSTM(units=hp.Int('units',\n",
    "                                       min_value=32,\n",
    "                                       max_value=512,\n",
    "                                       step=32),\n",
    "                          return_sequences=True,\n",
    "                          input_shape=(3, 1)))  # Ajustado para a nova forma dos dados\n",
    "    model.add(layers.Dropout(rate=hp.Float(\n",
    "        'dropout',\n",
    "        min_value=0.0,\n",
    "        max_value=0.5,\n",
    "        default=0.25,\n",
    "        step=0.05,\n",
    "    )))\n",
    "    model.add(layers.LSTM(units=hp.Int('units_2',\n",
    "                                       min_value=32,\n",
    "                                       max_value=512,\n",
    "                                       step=32)))\n",
    "    model.add(layers.Dense(1, activation=hp.Choice('activation', ['relu', 'sigmoid'])))\n",
    "    model.compile(loss='mean_squared_error', optimizer=keras.optimizers.Adam(\n",
    "        hp.Choice('learning_rate', [1e-2, 1e-3, 1e-4])))\n",
    "    return model\n",
    "\n",
    "def model_search(\n",
    "        name,\n",
    "        train_x,\n",
    "        train_y,\n",
    "        max_trials=10,\n",
    "        executions_per_trial=1,\n",
    "        epochs=10,\n",
    "        validation_split=0.3\n",
    "):\n",
    "    tuner = RandomSearch(\n",
    "        build_model,\n",
    "        seed=13418236482,\n",
    "        objective='val_loss',\n",
    "        max_trials=max_trials,\n",
    "        executions_per_trial=executions_per_trial,\n",
    "        directory='models',\n",
    "        project_name=name)\n",
    "\n",
    "    tuner.search_space_summary()\n",
    "\n",
    "    tuner.search(train_x, train_y,\n",
    "                 epochs=epochs,\n",
    "                 validation_split=validation_split)\n",
    "\n",
    "    return tuner.get_best_hyperparameters()[0]"
   ]
  },
  {
   "cell_type": "code",
   "execution_count": 127,
   "metadata": {
    "ExecuteTime": {
     "end_time": "2023-09-23T15:08:34.599936100Z",
     "start_time": "2023-09-23T15:08:34.547608200Z"
    },
    "collapsed": false,
    "jupyter": {
     "outputs_hidden": false
    }
   },
   "outputs": [],
   "source": [
    "class Scaler:\n",
    "    scales: {}\n",
    "    df: pd.DataFrame\n",
    "    df_scaled: pd.DataFrame\n",
    "    scaled: bool\n",
    "\n",
    "    def __init__(self, df: pd.DataFrame):\n",
    "        self.df = df.copy()\n",
    "        self.scales = {}\n",
    "        for c in df.columns:\n",
    "            self.scales[c] = MinMaxScaler(feature_range=(0, 1))\n",
    "        self.scaled = False\n",
    "\n",
    "    def get_dataframe_scaled(self):\n",
    "        if self.scaled:\n",
    "            return self.df_scaled\n",
    "        self.scaled = True\n",
    "        self.df_scaled = self.df.copy()\n",
    "        for c in df.columns:\n",
    "            self.df_scaled[c] = self.scales[c]\\\n",
    "                .fit_transform(self.df_scaled[c].values.reshape(-1, 1))\n",
    "        return self.df_scaled"
   ]
  },
  {
   "cell_type": "code",
   "execution_count": 128,
   "metadata": {
    "ExecuteTime": {
     "end_time": "2023-09-19T00:13:27.068084200Z",
     "start_time": "2023-09-19T00:13:25.629276300Z"
    },
    "collapsed": false,
    "jupyter": {
     "outputs_hidden": false
    }
   },
   "outputs": [],
   "source": [
    "df = read_data()"
   ]
  },
  {
   "cell_type": "code",
   "execution_count": 129,
   "metadata": {
    "ExecuteTime": {
     "end_time": "2023-09-19T00:13:27.082244600Z",
     "start_time": "2023-09-19T00:13:27.064561600Z"
    },
    "collapsed": false,
    "jupyter": {
     "outputs_hidden": false
    }
   },
   "outputs": [
    {
     "name": "stdout",
     "output_type": "stream",
     "text": [
      "7332\n"
     ]
    }
   ],
   "source": [
    "print(df.size)\n",
    "df = fill_df(df, interpolate_filler)"
   ]
  },
  {
   "cell_type": "code",
   "execution_count": 130,
   "metadata": {
    "ExecuteTime": {
     "end_time": "2023-09-19T00:13:27.145065Z",
     "start_time": "2023-09-19T00:13:27.076104600Z"
    },
    "collapsed": false,
    "jupyter": {
     "outputs_hidden": false
    }
   },
   "outputs": [
    {
     "name": "stdout",
     "output_type": "stream",
     "text": [
      "            RADIATION\n",
      "2002-12-05    17306.0\n",
      "2002-12-06    17306.0\n",
      "2002-12-07    17306.0\n",
      "2002-12-08    17306.0\n",
      "2002-12-09    17306.0\n",
      "...               ...\n",
      "2022-12-27    13899.2\n",
      "2022-12-28    10267.3\n",
      "2022-12-29     8122.0\n",
      "2022-12-30     7987.6\n",
      "2022-12-31    12501.4\n",
      "\n",
      "[7332 rows x 1 columns]             RADIATION\n",
      "2002-12-05   0.543153\n",
      "2002-12-06   0.543153\n",
      "2002-12-07   0.543153\n",
      "2002-12-08   0.543153\n",
      "2002-12-09   0.543153\n",
      "...               ...\n",
      "2022-12-27   0.435906\n",
      "2022-12-28   0.321572\n",
      "2022-12-29   0.254037\n",
      "2022-12-30   0.249806\n",
      "2022-12-31   0.391903\n",
      "\n",
      "[7332 rows x 1 columns]\n"
     ]
    }
   ],
   "source": [
    "scaler = Scaler(df)\n",
    "df_scaled = scaler.get_dataframe_scaled()\n",
    "print(df, df_scaled)"
   ]
  },
  {
   "cell_type": "code",
   "execution_count": 131,
   "metadata": {
    "ExecuteTime": {
     "end_time": "2023-09-19T00:13:27.145065Z",
     "start_time": "2023-09-19T00:13:27.100822300Z"
    },
    "collapsed": false,
    "jupyter": {
     "outputs_hidden": false
    }
   },
   "outputs": [],
   "source": [
    "X, Y = windowing(df_scaled, 3, 1)\n",
    "train_x, train_y, test_x, test_y = split_data(X, Y, length=len(df_scaled), ratio=0.9)"
   ]
  },
  {
   "cell_type": "markdown",
   "metadata": {
    "collapsed": false,
    "jupyter": {
     "outputs_hidden": false
    }
   },
   "source": [
    "## LSTM"
   ]
  },
  {
   "cell_type": "code",
   "execution_count": 132,
   "metadata": {
    "ExecuteTime": {
     "end_time": "2023-09-19T00:13:27.161128900Z",
     "start_time": "2023-09-19T00:13:27.115349900Z"
    },
    "collapsed": false,
    "jupyter": {
     "outputs_hidden": false
    }
   },
   "outputs": [
    {
     "name": "stdout",
     "output_type": "stream",
     "text": [
      "Reloading Tuner from models\\interpolate_lstm_5_1_aurora\\tuner0.json\n",
      "Search space summary\n",
      "Default search space size: 5\n",
      "units (Int)\n",
      "{'default': None, 'conditions': [], 'min_value': 32, 'max_value': 512, 'step': 32, 'sampling': 'linear'}\n",
      "dropout (Float)\n",
      "{'default': 0.25, 'conditions': [], 'min_value': 0.0, 'max_value': 0.5, 'step': 0.05, 'sampling': 'linear'}\n",
      "units_2 (Int)\n",
      "{'default': None, 'conditions': [], 'min_value': 32, 'max_value': 512, 'step': 32, 'sampling': 'linear'}\n",
      "activation (Choice)\n",
      "{'default': 'relu', 'conditions': [], 'values': ['relu', 'sigmoid'], 'ordered': False}\n",
      "learning_rate (Choice)\n",
      "{'default': 0.01, 'conditions': [], 'values': [0.01, 0.001, 0.0001], 'ordered': True}\n"
     ]
    },
    {
     "data": {
      "text/plain": [
       "{'units': 32,\n",
       " 'dropout': 0.05,\n",
       " 'units_2': 512,\n",
       " 'activation': 'sigmoid',\n",
       " 'learning_rate': 0.01}"
      ]
     },
     "execution_count": 132,
     "metadata": {},
     "output_type": "execute_result"
    }
   ],
   "source": [
    "hp = model_search('interpolate_lstm_5_1_aurora', train_x, train_y, 20, 3, 10, 0.3)\n",
    "hp.values"
   ]
  },
  {
   "cell_type": "code",
   "execution_count": 133,
   "metadata": {
    "ExecuteTime": {
     "end_time": "2023-09-19T00:14:43.320119Z",
     "start_time": "2023-09-19T00:13:27.166120300Z"
    },
    "collapsed": false,
    "jupyter": {
     "outputs_hidden": false
    }
   },
   "outputs": [
    {
     "name": "stdout",
     "output_type": "stream",
     "text": [
      "Epoch 1/200\n",
      "92/92 - 4s - loss: 0.0249 - val_loss: 0.0210 - 4s/epoch - 44ms/step\n",
      "Epoch 2/200\n",
      "92/92 - 1s - loss: 0.0220 - val_loss: 0.0188 - 1s/epoch - 16ms/step\n",
      "Epoch 3/200\n",
      "92/92 - 1s - loss: 0.0221 - val_loss: 0.0221 - 1s/epoch - 16ms/step\n",
      "Epoch 4/200\n",
      "92/92 - 1s - loss: 0.0219 - val_loss: 0.0233 - 1s/epoch - 16ms/step\n",
      "Epoch 5/200\n",
      "92/92 - 2s - loss: 0.0219 - val_loss: 0.0213 - 2s/epoch - 17ms/step\n",
      "Epoch 6/200\n",
      "92/92 - 2s - loss: 0.0219 - val_loss: 0.0202 - 2s/epoch - 16ms/step\n",
      "Epoch 7/200\n",
      "92/92 - 1s - loss: 0.0217 - val_loss: 0.0186 - 1s/epoch - 16ms/step\n",
      "Epoch 8/200\n",
      "92/92 - 1s - loss: 0.0214 - val_loss: 0.0256 - 1s/epoch - 16ms/step\n",
      "Epoch 9/200\n",
      "92/92 - 1s - loss: 0.0219 - val_loss: 0.0217 - 1s/epoch - 16ms/step\n",
      "Epoch 10/200\n",
      "92/92 - 1s - loss: 0.0214 - val_loss: 0.0212 - 1s/epoch - 16ms/step\n",
      "Epoch 11/200\n",
      "92/92 - 1s - loss: 0.0216 - val_loss: 0.0194 - 1s/epoch - 16ms/step\n",
      "Epoch 12/200\n",
      "92/92 - 1s - loss: 0.0212 - val_loss: 0.0199 - 1s/epoch - 15ms/step\n",
      "Epoch 13/200\n",
      "92/92 - 1s - loss: 0.0214 - val_loss: 0.0181 - 1s/epoch - 15ms/step\n",
      "Epoch 14/200\n",
      "92/92 - 2s - loss: 0.0213 - val_loss: 0.0201 - 2s/epoch - 16ms/step\n",
      "Epoch 15/200\n",
      "92/92 - 2s - loss: 0.0214 - val_loss: 0.0217 - 2s/epoch - 17ms/step\n",
      "Epoch 16/200\n",
      "92/92 - 1s - loss: 0.0213 - val_loss: 0.0194 - 1s/epoch - 16ms/step\n",
      "Epoch 17/200\n",
      "92/92 - 1s - loss: 0.0213 - val_loss: 0.0198 - 1s/epoch - 15ms/step\n",
      "Epoch 18/200\n",
      "92/92 - 1s - loss: 0.0214 - val_loss: 0.0198 - 1s/epoch - 15ms/step\n",
      "Epoch 19/200\n",
      "92/92 - 1s - loss: 0.0212 - val_loss: 0.0194 - 1s/epoch - 16ms/step\n",
      "Epoch 20/200\n",
      "92/92 - 1s - loss: 0.0212 - val_loss: 0.0204 - 1s/epoch - 16ms/step\n",
      "Epoch 21/200\n",
      "92/92 - 1s - loss: 0.0210 - val_loss: 0.0200 - 1s/epoch - 16ms/step\n",
      "Epoch 22/200\n",
      "92/92 - 1s - loss: 0.0213 - val_loss: 0.0205 - 1s/epoch - 16ms/step\n",
      "Epoch 23/200\n",
      "92/92 - 1s - loss: 0.0212 - val_loss: 0.0187 - 1s/epoch - 16ms/step\n",
      "Epoch 24/200\n",
      "92/92 - 1s - loss: 0.0212 - val_loss: 0.0186 - 1s/epoch - 16ms/step\n",
      "Epoch 25/200\n",
      "92/92 - 1s - loss: 0.0212 - val_loss: 0.0212 - 1s/epoch - 16ms/step\n",
      "Epoch 26/200\n",
      "92/92 - 1s - loss: 0.0211 - val_loss: 0.0191 - 1s/epoch - 16ms/step\n",
      "Epoch 27/200\n",
      "92/92 - 1s - loss: 0.0212 - val_loss: 0.0188 - 1s/epoch - 16ms/step\n",
      "Epoch 28/200\n",
      "92/92 - 1s - loss: 0.0213 - val_loss: 0.0203 - 1s/epoch - 16ms/step\n",
      "Epoch 28: early stopping\n"
     ]
    },
    {
     "data": {
      "image/png": "[encoded data removed]",
      "text/plain": [
       "<Figure size 640x480 with 1 Axes>"
      ]
     },
     "metadata": {},
     "output_type": "display_data"
    }
   ],
   "source": [
    "model = build_model(hp)\n",
    "\n",
    "# fit network\n",
    "es = EarlyStopping(monitor='val_loss', mode='min', verbose=1, patience=15)\n",
    "history = model.fit(train_x,\n",
    "                    train_y,\n",
    "                    epochs=200,\n",
    "                    batch_size=72,\n",
    "                    validation_data=(test_x, test_y),\n",
    "                    validation_split=0.3,\n",
    "                    verbose=2,\n",
    "                    callbacks=[es],\n",
    "                    workers=4,\n",
    "                    use_multiprocessing=True)\n",
    "# plot history\n",
    "pyplot.plot(history.history['loss'], label='train')\n",
    "pyplot.plot(history.history['val_loss'], label='validation')\n",
    "pyplot.legend()\n",
    "pyplot.show()"
   ]
  },
  {
   "cell_type": "code",
   "execution_count": 134,
   "metadata": {
    "ExecuteTime": {
     "end_time": "2023-09-19T00:14:44.085937600Z",
     "start_time": "2023-09-19T00:14:43.326166400Z"
    },
    "collapsed": false,
    "jupyter": {
     "outputs_hidden": false
    }
   },
   "outputs": [
    {
     "name": "stdout",
     "output_type": "stream",
     "text": [
      "23/23 [==============================] - 1s 5ms/step\n"
     ]
    }
   ],
   "source": [
    "predict = model.predict(test_x)\n",
    "\n",
    "real = scaler.scales['RADIATION'].inverse_transform(test_y.reshape(-1,1))\n",
    "predict = scaler.scales['RADIATION'].inverse_transform(predict)"
   ]
  },
  {
   "cell_type": "code",
   "execution_count": 135,
   "metadata": {
    "ExecuteTime": {
     "end_time": "2023-09-19T00:14:44.239464600Z",
     "start_time": "2023-09-19T00:14:44.090452Z"
    },
    "collapsed": false,
    "jupyter": {
     "outputs_hidden": false
    }
   },
   "outputs": [
    {
     "name": "stdout",
     "output_type": "stream",
     "text": [
      "Test R2: 0.481\n",
      "Test MSE: 20473077.180\n",
      "Test RMSE: 4524.718\n",
      "Test MAE: 3666.034\n",
      "Test MAPE: 0.378\n"
     ]
    },
    {
     "data": {
      "image/png": "[encoded data removed]",
      "text/plain": [
       "<Figure size 640x480 with 1 Axes>"
      ]
     },
     "metadata": {},
     "output_type": "display_data"
    }
   ],
   "source": [
    "range_plot = 100\n",
    "\n",
    "pyplot.plot(real[0:range_plot], color='blue', label='real')\n",
    "pyplot.plot(predict[0:range_plot], color='red', label='incompleto')\n",
    "\n",
    "show_error_metrics(real, predict)\n",
    "\n",
    "pyplot.show()"
   ]
  },
  {
   "cell_type": "markdown",
   "metadata": {
    "collapsed": false,
    "jupyter": {
     "outputs_hidden": false
    }
   },
   "source": [
    "## Manual Model"
   ]
  },
  {
   "cell_type": "code",
   "execution_count": 136,
   "metadata": {
    "ExecuteTime": {
     "end_time": "2023-09-19T00:14:44.239464600Z",
     "start_time": "2023-09-19T00:14:44.230886Z"
    },
    "collapsed": false,
    "jupyter": {
     "outputs_hidden": false
    }
   },
   "outputs": [
    {
     "name": "stdout",
     "output_type": "stream",
     "text": [
      "(730, 3, 1) (730,)\n"
     ]
    }
   ],
   "source": [
    "print(test_x.shape, test_y.shape)"
   ]
  },
  {
   "cell_type": "code",
   "execution_count": 137,
   "metadata": {
    "ExecuteTime": {
     "end_time": "2023-09-19T00:19:03.929342600Z",
     "start_time": "2023-09-19T00:18:29.644167200Z"
    },
    "collapsed": false,
    "jupyter": {
     "outputs_hidden": false
    }
   },
   "outputs": [
    {
     "name": "stdout",
     "output_type": "stream",
     "text": [
      "Epoch 1/200\n"
     ]
    },
    {
     "ename": "ValueError",
     "evalue": "in user code:\n\n    File \"C:\\Users\\pedr\\AppData\\Local\\Programs\\Python\\Python311\\Lib\\site-packages\\keras\\src\\engine\\training.py\", line 1377, in train_function  *\n        return step_function(self, iterator)\n    File \"C:\\Users\\pedr\\AppData\\Local\\Programs\\Python\\Python311\\Lib\\site-packages\\keras\\src\\engine\\training.py\", line 1360, in step_function  **\n        outputs = model.distribute_strategy.run(run_step, args=(data,))\n    File \"C:\\Users\\pedr\\AppData\\Local\\Programs\\Python\\Python311\\Lib\\site-packages\\keras\\src\\engine\\training.py\", line 1349, in run_step  **\n        outputs = model.train_step(data)\n    File \"C:\\Users\\pedr\\AppData\\Local\\Programs\\Python\\Python311\\Lib\\site-packages\\keras\\src\\engine\\training.py\", line 1126, in train_step\n        y_pred = self(x, training=True)\n    File \"C:\\Users\\pedr\\AppData\\Local\\Programs\\Python\\Python311\\Lib\\site-packages\\keras\\src\\utils\\traceback_utils.py\", line 70, in error_handler\n        raise e.with_traceback(filtered_tb) from None\n    File \"C:\\Users\\pedr\\AppData\\Local\\Programs\\Python\\Python311\\Lib\\site-packages\\keras\\src\\engine\\input_spec.py\", line 298, in assert_input_compatibility\n        raise ValueError(\n\n    ValueError: Input 0 of layer \"sequential_6\" is incompatible with the layer: expected shape=(None, 5, 3), found shape=(None, 3, 1)\n",
     "output_type": "error",
     "traceback": [
      "\u001b[1;31m---------------------------------------------------------------------------\u001b[0m",
      "\u001b[1;31mValueError\u001b[0m                                Traceback (most recent call last)",
      "Cell \u001b[1;32mIn[137], line 20\u001b[0m\n\u001b[0;32m     16\u001b[0m model2\u001b[38;5;241m.\u001b[39mcompile(loss\u001b[38;5;241m=\u001b[39m\u001b[38;5;124m'\u001b[39m\u001b[38;5;124mmean_squared_error\u001b[39m\u001b[38;5;124m'\u001b[39m, optimizer\u001b[38;5;241m=\u001b[39mkeras\u001b[38;5;241m.\u001b[39moptimizers\u001b[38;5;241m.\u001b[39mlegacy\u001b[38;5;241m.\u001b[39mAdam(\u001b[38;5;241m0.01\u001b[39m))\n\u001b[0;32m     19\u001b[0m es \u001b[38;5;241m=\u001b[39m EarlyStopping(monitor\u001b[38;5;241m=\u001b[39m\u001b[38;5;124m'\u001b[39m\u001b[38;5;124mval_loss\u001b[39m\u001b[38;5;124m'\u001b[39m, mode\u001b[38;5;241m=\u001b[39m\u001b[38;5;124m'\u001b[39m\u001b[38;5;124mmin\u001b[39m\u001b[38;5;124m'\u001b[39m, verbose\u001b[38;5;241m=\u001b[39m\u001b[38;5;241m1\u001b[39m, patience\u001b[38;5;241m=\u001b[39m\u001b[38;5;241m15\u001b[39m)\n\u001b[1;32m---> 20\u001b[0m history \u001b[38;5;241m=\u001b[39m \u001b[43mmodel2\u001b[49m\u001b[38;5;241;43m.\u001b[39;49m\u001b[43mfit\u001b[49m\u001b[43m(\u001b[49m\u001b[43mtrain_x\u001b[49m\u001b[43m,\u001b[49m\n\u001b[0;32m     21\u001b[0m \u001b[43m                     \u001b[49m\u001b[43mtrain_y\u001b[49m\u001b[43m,\u001b[49m\n\u001b[0;32m     22\u001b[0m \u001b[43m                     \u001b[49m\u001b[43mepochs\u001b[49m\u001b[38;5;241;43m=\u001b[39;49m\u001b[38;5;241;43m200\u001b[39;49m\u001b[43m,\u001b[49m\n\u001b[0;32m     23\u001b[0m \u001b[43m                     \u001b[49m\u001b[43mbatch_size\u001b[49m\u001b[38;5;241;43m=\u001b[39;49m\u001b[38;5;241;43m72\u001b[39;49m\u001b[43m,\u001b[49m\n\u001b[0;32m     24\u001b[0m \u001b[43m                     \u001b[49m\u001b[38;5;66;43;03m#validation_data=(test_x, test_y),\u001b[39;49;00m\n\u001b[0;32m     25\u001b[0m \u001b[43m                     \u001b[49m\u001b[43mvalidation_split\u001b[49m\u001b[38;5;241;43m=\u001b[39;49m\u001b[38;5;241;43m0.3\u001b[39;49m\u001b[43m,\u001b[49m\n\u001b[0;32m     26\u001b[0m \u001b[43m                     \u001b[49m\u001b[43mverbose\u001b[49m\u001b[38;5;241;43m=\u001b[39;49m\u001b[38;5;241;43m2\u001b[39;49m\u001b[43m,\u001b[49m\n\u001b[0;32m     27\u001b[0m \u001b[43m                     \u001b[49m\u001b[43mcallbacks\u001b[49m\u001b[38;5;241;43m=\u001b[39;49m\u001b[43m[\u001b[49m\u001b[43mes\u001b[49m\u001b[43m]\u001b[49m\u001b[43m,\u001b[49m\n\u001b[0;32m     28\u001b[0m \u001b[43m                     \u001b[49m\u001b[43mworkers\u001b[49m\u001b[38;5;241;43m=\u001b[39;49m\u001b[38;5;241;43m4\u001b[39;49m\u001b[43m,\u001b[49m\n\u001b[0;32m     29\u001b[0m \u001b[43m                     \u001b[49m\u001b[43muse_multiprocessing\u001b[49m\u001b[38;5;241;43m=\u001b[39;49m\u001b[38;5;28;43;01mTrue\u001b[39;49;00m\u001b[43m)\u001b[49m\n\u001b[0;32m     30\u001b[0m \u001b[38;5;66;03m# plot history\u001b[39;00m\n\u001b[0;32m     31\u001b[0m pyplot\u001b[38;5;241m.\u001b[39mplot(history\u001b[38;5;241m.\u001b[39mhistory[\u001b[38;5;124m'\u001b[39m\u001b[38;5;124mloss\u001b[39m\u001b[38;5;124m'\u001b[39m], label\u001b[38;5;241m=\u001b[39m\u001b[38;5;124m'\u001b[39m\u001b[38;5;124mtrain\u001b[39m\u001b[38;5;124m'\u001b[39m)\n",
      "File \u001b[1;32m~\\AppData\\Local\\Programs\\Python\\Python311\\Lib\\site-packages\\keras\\src\\utils\\traceback_utils.py:70\u001b[0m, in \u001b[0;36mfilter_traceback.<locals>.error_handler\u001b[1;34m(*args, **kwargs)\u001b[0m\n\u001b[0;32m     67\u001b[0m     filtered_tb \u001b[38;5;241m=\u001b[39m _process_traceback_frames(e\u001b[38;5;241m.\u001b[39m__traceback__)\n\u001b[0;32m     68\u001b[0m     \u001b[38;5;66;03m# To get the full stack trace, call:\u001b[39;00m\n\u001b[0;32m     69\u001b[0m     \u001b[38;5;66;03m# `tf.debugging.disable_traceback_filtering()`\u001b[39;00m\n\u001b[1;32m---> 70\u001b[0m     \u001b[38;5;28;01mraise\u001b[39;00m e\u001b[38;5;241m.\u001b[39mwith_traceback(filtered_tb) \u001b[38;5;28;01mfrom\u001b[39;00m \u001b[38;5;28;01mNone\u001b[39;00m\n\u001b[0;32m     71\u001b[0m \u001b[38;5;28;01mfinally\u001b[39;00m:\n\u001b[0;32m     72\u001b[0m     \u001b[38;5;28;01mdel\u001b[39;00m filtered_tb\n",
      "File \u001b[1;32m~\\AppData\\Local\\Temp\\__autograph_generated_fileg1nhqwe8.py:15\u001b[0m, in \u001b[0;36mouter_factory.<locals>.inner_factory.<locals>.tf__train_function\u001b[1;34m(iterator)\u001b[0m\n\u001b[0;32m     13\u001b[0m \u001b[38;5;28;01mtry\u001b[39;00m:\n\u001b[0;32m     14\u001b[0m     do_return \u001b[38;5;241m=\u001b[39m \u001b[38;5;28;01mTrue\u001b[39;00m\n\u001b[1;32m---> 15\u001b[0m     retval_ \u001b[38;5;241m=\u001b[39m ag__\u001b[38;5;241m.\u001b[39mconverted_call(ag__\u001b[38;5;241m.\u001b[39mld(step_function), (ag__\u001b[38;5;241m.\u001b[39mld(\u001b[38;5;28mself\u001b[39m), ag__\u001b[38;5;241m.\u001b[39mld(iterator)), \u001b[38;5;28;01mNone\u001b[39;00m, fscope)\n\u001b[0;32m     16\u001b[0m \u001b[38;5;28;01mexcept\u001b[39;00m:\n\u001b[0;32m     17\u001b[0m     do_return \u001b[38;5;241m=\u001b[39m \u001b[38;5;28;01mFalse\u001b[39;00m\n",
      "\u001b[1;31mValueError\u001b[0m: in user code:\n\n    File \"C:\\Users\\pedr\\AppData\\Local\\Programs\\Python\\Python311\\Lib\\site-packages\\keras\\src\\engine\\training.py\", line 1377, in train_function  *\n        return step_function(self, iterator)\n    File \"C:\\Users\\pedr\\AppData\\Local\\Programs\\Python\\Python311\\Lib\\site-packages\\keras\\src\\engine\\training.py\", line 1360, in step_function  **\n        outputs = model.distribute_strategy.run(run_step, args=(data,))\n    File \"C:\\Users\\pedr\\AppData\\Local\\Programs\\Python\\Python311\\Lib\\site-packages\\keras\\src\\engine\\training.py\", line 1349, in run_step  **\n        outputs = model.train_step(data)\n    File \"C:\\Users\\pedr\\AppData\\Local\\Programs\\Python\\Python311\\Lib\\site-packages\\keras\\src\\engine\\training.py\", line 1126, in train_step\n        y_pred = self(x, training=True)\n    File \"C:\\Users\\pedr\\AppData\\Local\\Programs\\Python\\Python311\\Lib\\site-packages\\keras\\src\\utils\\traceback_utils.py\", line 70, in error_handler\n        raise e.with_traceback(filtered_tb) from None\n    File \"C:\\Users\\pedr\\AppData\\Local\\Programs\\Python\\Python311\\Lib\\site-packages\\keras\\src\\engine\\input_spec.py\", line 298, in assert_input_compatibility\n        raise ValueError(\n\n    ValueError: Input 0 of layer \"sequential_6\" is incompatible with the layer: expected shape=(None, 5, 3), found shape=(None, 3, 1)\n"
     ]
    }
   ],
   "source": [
    "from keras.models import Sequential\n",
    "from keras.layers import LSTM\n",
    "from keras.layers import Bidirectional, Dropout, Activation, Dense, LSTM, InputLayer\n",
    "from keras.callbacks import EarlyStopping\n",
    "\n",
    "\n",
    "model2 = Sequential([\n",
    "    Dense(1, input_shape=(5, 3)),\n",
    "    Dense(units=352),\n",
    "    Dropout(rate=0.35),\n",
    "    LSTM(units=320),\n",
    "    Dense(1, activation='sigmoid')\n",
    "])\n",
    "\n",
    "\n",
    "model2.compile(loss='mean_squared_error', optimizer=keras.optimizers.legacy.Adam(0.01))\n",
    "\n",
    "\n",
    "es = EarlyStopping(monitor='val_loss', mode='min', verbose=1, patience=15)\n",
    "history = model2.fit(train_x,\n",
    "                     train_y,\n",
    "                     epochs=200,\n",
    "                     batch_size=72,\n",
    "                     #validation_data=(test_x, test_y),\n",
    "                     validation_split=0.3,\n",
    "                     verbose=2,\n",
    "                     callbacks=[es],\n",
    "                     workers=4,\n",
    "                     use_multiprocessing=True)\n",
    "# plot history\n",
    "pyplot.plot(history.history['loss'], label='train')\n",
    "pyplot.plot(history.history['val_loss'], label='test')\n",
    "pyplot.legend()\n",
    "pyplot.show()"
   ]
  },
  {
   "cell_type": "code",
   "execution_count": null,
   "metadata": {},
   "outputs": [],
   "source": [
    "model2.evaluate(test_x, test_y, verbose=1)"
   ]
  },
  {
   "cell_type": "code",
   "execution_count": null,
   "metadata": {
    "ExecuteTime": {
     "end_time": "2023-09-23T16:41:40.282847Z",
     "start_time": "2023-09-23T16:41:40.091216700Z"
    },
    "collapsed": false,
    "jupyter": {
     "outputs_hidden": false
    }
   },
   "outputs": [],
   "source": [
    "predict = model2.predict(test_x)\n",
    "\n",
    "\n",
    "real = scaler.scales['RADIATION'].inverse_transform(test_y.reshape(-1,1))\n",
    "predict = scaler.scales['RADIATION'].inverse_transform(predict)"
   ]
  },
  {
   "cell_type": "code",
   "execution_count": null,
   "metadata": {
    "ExecuteTime": {
     "end_time": "2023-09-19T00:19:04.696134600Z",
     "start_time": "2023-09-19T00:19:04.566993100Z"
    },
    "collapsed": false,
    "jupyter": {
     "outputs_hidden": false
    }
   },
   "outputs": [],
   "source": [
    "range_plot = 100\n",
    "\n",
    "pyplot.plot(real[0:range_plot], color='blue', label='real')\n",
    "pyplot.plot(predict[0:range_plot], color='red', label='incompleto')\n",
    "\n",
    "show_error_metrics(real, predict)\n",
    "\n",
    "pyplot.show()"
   ]
  },
  {
   "cell_type": "code",
   "execution_count": null,
   "metadata": {
    "ExecuteTime": {
     "end_time": "2023-09-19T00:15:32.548452600Z",
     "start_time": "2023-09-19T00:15:32.540411500Z"
    },
    "collapsed": false,
    "jupyter": {
     "outputs_hidden": false
    }
   },
   "outputs": [],
   "source": []
  },
  {
   "cell_type": "code",
   "execution_count": null,
   "metadata": {},
   "outputs": [],
   "source": []
  }
 ],
 "metadata": {
  "kernelspec": {
   "display_name": "Python 3 (ipykernel)",
   "language": "python",
   "name": "python3"
  },
  "language_info": {
   "codemirror_mode": {
    "name": "ipython",
    "version": 3
   },
   "file_extension": ".py",
   "mimetype": "text/x-python",
   "name": "python",
   "nbconvert_exporter": "python",
   "pygments_lexer": "ipython3",
   "version": "3.11.4"
  }
 },
 "nbformat": 4,
 "nbformat_minor": 4
}
